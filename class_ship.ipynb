{
 "cells": [
  {
   "cell_type": "code",
   "execution_count": 2,
   "metadata": {},
   "outputs": [],
   "source": [
    "'''\n",
    "This class defines the object \"ship\" that should hold \n",
    "(i) a predefined route in 2D along which it moves in (discrete) time\n",
    "(ii) a predefined mean velocity (or speed) value along the route\n",
    "(iii) volatility values that indicate random deviations from the velocity and\n",
    "route\n",
    "(iv) an engine sound dB value\n",
    "\n",
    "CURRENT VERSION: The class only holds a single coordinate value and an engine \n",
    "sound dB value\n",
    "\n",
    "NEXT VERSION: The class should hold a METHOD that receives a time parameter as\n",
    "input and returns the new coordinates (along a predefined route) at this time\n",
    "'''\n",
    "\n",
    "import numpy as np\n",
    "\n",
    "class ship_fleet():\n",
    "    def __init__(self, coord_vec, velocities_vec, sound_vec):\n",
    "        # NEW VERSION: Reading the ship paths from file\n",
    "        self.paths = np.load('simulated_ship_paths.npy')\n",
    "        self.size = self.paths.shape[0]\n",
    "        self.coords = self.paths[:,0,:]\n",
    "        self.start_coords = self.coords\n",
    "        self.vels = velocities_vec # NEXT VERSION: Remove velocities\n",
    "        self.sound = sound_vec\n",
    "        \n",
    "        # OLD VERSION: Update procedure for ship path defined through constant velocity model\n",
    "        '''\n",
    "        self.size = coord_vec.shape[0]\n",
    "        self.coords = coord_vec\n",
    "        self.start_coords = coord_vec\n",
    "        self.vels = velocities_vec\n",
    "        self.sound = sound_vec\n",
    "        '''\n",
    "        \n",
    "    # NEW VERSION: Reading the ship paths from file\n",
    "    def update_fleet_positions(self, time):\n",
    "        self.coords = self.paths[:,time,:]\n",
    "    # OLD VERSION: Update procedure for ship path defined through constant velocity model\n",
    "    '''\n",
    "    def update_fleet_positions(self, time):\n",
    "        if (time == 0):\n",
    "            self.coords = self.start_coords\n",
    "        else:\n",
    "            self.coords = self.start_coords + time * self.vels\n",
    "    '''"
   ]
  },
  {
   "cell_type": "code",
   "execution_count": null,
   "metadata": {},
   "outputs": [],
   "source": []
  }
 ],
 "metadata": {
  "kernelspec": {
   "display_name": "Python 3",
   "language": "python",
   "name": "python3"
  },
  "language_info": {
   "codemirror_mode": {
    "name": "ipython",
    "version": 3
   },
   "file_extension": ".py",
   "mimetype": "text/x-python",
   "name": "python",
   "nbconvert_exporter": "python",
   "pygments_lexer": "ipython3",
   "version": "3.8.2"
  }
 },
 "nbformat": 4,
 "nbformat_minor": 4
}
