{
 "cells": [
  {
   "cell_type": "code",
   "execution_count": null,
   "metadata": {},
   "outputs": [],
   "source": [
    "\"\"\"\n",
    "IMPORTANT NOTE: To call other notebook functions we need to pip install ipynb via\n",
    "> Terminal\n",
    "> pip install ipynb\n",
    "(source: https://stackoverflow.com/questions/44116194/import-a-function-from-another-ipynb-file)\n",
    "THEN to call a module \"my_func\" in some notebook \"my_notebook\" we use\n",
    "> from ipynb.fs.full.my_notebook import my_func\n",
    "\n",
    "ALTERNATIVELY (in case notebook specific variables need to be defined): One can run entire\n",
    "notebooks from another notebook using\n",
    "> %run ./my_notebook.ipynb\n",
    "\"\"\""
   ]
  }
 ],
 "metadata": {
  "kernelspec": {
   "display_name": "Python 3",
   "language": "python",
   "name": "python3"
  },
  "language_info": {
   "codemirror_mode": {
    "name": "ipython",
    "version": 3
   },
   "file_extension": ".py",
   "mimetype": "text/x-python",
   "name": "python",
   "nbconvert_exporter": "python",
   "pygments_lexer": "ipython3",
   "version": "3.8.3"
  }
 },
 "nbformat": 4,
 "nbformat_minor": 4
}
