{
 "cells": [
  {
   "cell_type": "code",
   "execution_count": null,
   "metadata": {},
   "outputs": [],
   "source": [
    "'''\n",
    "This script holds a function that uses\n",
    "(i) the distance between the source (ship) and receiver (sensor)\n",
    "(ii) an std value that corresponds to the std of centralised normally\n",
    "distributed errors that should increase with the distance between source and\n",
    "receiver\n",
    "\n",
    "CURRENT VERSION: The function used is the \"source, path, receiver\" model \n",
    "(Richardson 1995) without any error term\n",
    "'''\n",
    "\n",
    "import math\n",
    "from numpy import linalg\n",
    "\n",
    "def soundPropagation(source, receiver): # We assume the source and receiver to \n",
    "# be classes where each holds a property \"coord\" indicating the 2D coordinates. \n",
    "# Additionally the source class should hold a property \"sound\" with a starting\n",
    "# dB value that is emitted\n",
    "    rvr_sound = source.sound - 10 * math.log10(linalg.norm(source.coord - \n",
    "                                                           receiver.coord)) #dB\n",
    "    #value at the receiver\n",
    "    return max(rvr_sound, 0) # Since the sound dB value cannot be negative"
   ]
  }
 ],
 "metadata": {
  "kernelspec": {
   "display_name": "Python 3",
   "language": "python",
   "name": "python3"
  },
  "language_info": {
   "codemirror_mode": {
    "name": "ipython",
    "version": 3
   },
   "file_extension": ".py",
   "mimetype": "text/x-python",
   "name": "python",
   "nbconvert_exporter": "python",
   "pygments_lexer": "ipython3",
   "version": "3.8.3"
  }
 },
 "nbformat": 4,
 "nbformat_minor": 4
}
