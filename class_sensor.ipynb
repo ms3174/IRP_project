{
 "cells": [
  {
   "cell_type": "code",
   "execution_count": 5,
   "metadata": {},
   "outputs": [],
   "source": [
    "'''\n",
    "This class defines the object \"sensor\" that should hold \n",
    "(i) it's position (or coordinates) in a 2D space\n",
    "(ii) a covariance matrix corresponding to centralised normally distributed\n",
    "measurement errors\n",
    "\n",
    "CURRENT VERSION: The class only hold coordinates and a METHOD that simulates\n",
    "signal measurements from a known ship CLASS (with known coordinates and\n",
    "emitting dB value) based on the sound propagation function in \n",
    "\"soundPropagation.py\" without errors\n",
    "\n",
    "NEXT VERSION: Integrate the class into a class \"sensor network\" that holds\n",
    "the position of m sensors in a 2D space, and pinpoints the location of the\n",
    "signal source based on the crossreference of the individual dB value measurements\n",
    "(for known source signal dB value) based on the sound propagation function\n",
    "(soundPropagation.py)\n",
    "'''\n",
    "\n",
    "from ipynb.fs.full.soundPropagation import soundPropagation\n",
    "\n",
    "class sensor():\n",
    "    def __init__(self, coord):\n",
    "        self.coord = coord\n",
    "        \n",
    "    def measure(self, ship):\n",
    "        meas = soundPropagation(ship, self)\n",
    "        return meas"
   ]
  }
 ],
 "metadata": {
  "kernelspec": {
   "display_name": "Python 3",
   "language": "python",
   "name": "python3"
  },
  "language_info": {
   "codemirror_mode": {
    "name": "ipython",
    "version": 3
   },
   "file_extension": ".py",
   "mimetype": "text/x-python",
   "name": "python",
   "nbconvert_exporter": "python",
   "pygments_lexer": "ipython3",
   "version": "3.8.2"
  }
 },
 "nbformat": 4,
 "nbformat_minor": 4
}
