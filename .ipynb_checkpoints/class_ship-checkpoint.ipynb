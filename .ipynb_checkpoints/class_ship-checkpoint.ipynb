{
 "cells": [
  {
   "cell_type": "code",
   "execution_count": null,
   "metadata": {},
   "outputs": [],
   "source": [
    "'''\n",
    "This class defines the object \"ship\" that should hold \n",
    "(i) a predefined route in 2D along which it moves in (discrete) time\n",
    "(ii) a predefined mean velocity (or speed) value along the route\n",
    "(iii) volatility values that indicate random deviations from the velocity and\n",
    "route\n",
    "(iv) an engine sound dB value\n",
    "\n",
    "CURRENT VERSION: The class only holds a single coordinate value and an engine \n",
    "sound dB value\n",
    "\n",
    "NEXT VERSION: The class should hold a METHOD that receives a time parameter as\n",
    "input and returns the new coordinates (along a predefined route) at this time\n",
    "'''\n",
    "\n",
    "class ship():\n",
    "    def __init__(self, coord, velocities, sound):\n",
    "        self.coord = coord\n",
    "        self.vels = velocities\n",
    "        self.sound = sound\n",
    "\n",
    "class ship_fleet():\n",
    "    def __init__(self, coord_vec, velocities_vec, sound_vec):\n",
    "        self.size = coord_vec.shape[0]\n",
    "        self.coords = coord_vec\n",
    "        self.start_coords = coord_vec\n",
    "        self.vels = velocities_vec\n",
    "        self.sound = sound_vec\n",
    "    \n",
    "    def update_fleet_positions(self, time):\n",
    "        if (time == 0):\n",
    "            self.coords = self.start_coords\n",
    "        else:\n",
    "            self.coords = self.start_coords + time * self.vels"
   ]
  }
 ],
 "metadata": {
  "kernelspec": {
   "display_name": "Python 3",
   "language": "python",
   "name": "python3"
  },
  "language_info": {
   "codemirror_mode": {
    "name": "ipython",
    "version": 3
   },
   "file_extension": ".py",
   "mimetype": "text/x-python",
   "name": "python",
   "nbconvert_exporter": "python",
   "pygments_lexer": "ipython3",
   "version": "3.8.2"
  }
 },
 "nbformat": 4,
 "nbformat_minor": 4
}
