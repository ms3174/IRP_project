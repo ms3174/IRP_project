{
 "cells": [
  {
   "cell_type": "code",
   "execution_count": 1,
   "metadata": {},
   "outputs": [],
   "source": [
    "'''\n",
    "This class defines the \"black sea\" object holding\n",
    "(i) the borders as xy coordinates\n",
    "(ii) ports as xy coordinates which act as start and endpoints of ship paths\n",
    "\n",
    "\n",
    "CURRENT VERSION:\n",
    "(i) \"border_points\" are given to the object to define the \"coordinates\" of a\n",
    "polygon (saved as \"area\") over these points; the polygon's \"border\" is used as \n",
    "the object's border\n",
    "(ii) ports are defined through a method that automatically projects the given \n",
    "coordinates to the (Euclidean) closest border point\n",
    "'''\n",
    "\n",
    "from shapely.geometry import Point, Polygon # to define polygon object and find closest border point\n",
    "from shapely.ops import nearest_points # to find closest border point for ports\n",
    "import matplotlib.path as mpltPath # to check if the point is on the border\n",
    "import numpy as np\n",
    "\n",
    "class black_sea_obj():\n",
    "    def __init__(self, borders_xy):\n",
    "        self.border_points = borders_xy # Setting the array as nodes over which\n",
    "        # a path is defined to define continuous borders\n",
    "        self.area = Polygon(self.border_points)\n",
    "        self.border = self.area.bounds\n",
    "        self.ports = []\n",
    "        print(\"Finish initialising class black_sea_obj\")\n",
    "    \n",
    "    def set_port(self, name, port_coords):\n",
    "        # Method to find the closest point to the given coordinates that is on\n",
    "        # the border path\n",
    "        port_coords_point = Point(port_coords)\n",
    "        closest_border_point, temp = nearest_points(self.area, port_coords_point)\n",
    "        x, y = closest_border_point.coords.xy[0][0], closest_border_point.coords.xy[1][0] # \"nearest point gives\n",
    "        # an actual \"Point\" class as output with many other properties other than the coords\n",
    "        xy = np.array([x,y])\n",
    "        print(\"Point is not on border. Define coordinates as \" + str(closest_border_point))\n",
    "        self.ports.append([name, xy])"
   ]
  },
  {
   "cell_type": "code",
   "execution_count": 3,
   "metadata": {},
   "outputs": [
    {
     "name": "stdout",
     "output_type": "stream",
     "text": [
      "Point is not on border. Define coordinates as POINT (0.2483661189101248 0.1631374527378108)\n"
     ]
    },
    {
     "data": {
      "text/plain": [
       "[<matplotlib.lines.Line2D at 0x7feea91c7250>]"
      ]
     },
     "execution_count": 3,
     "metadata": {},
     "output_type": "execute_result"
    },
    {
     "data": {
      "image/png": "[encoded data removed]",
      "text/plain": [
       "<Figure size 432x288 with 1 Axes>"
      ]
     },
     "metadata": {
      "needs_background": "light"
     },
     "output_type": "display_data"
    }
   ],
   "source": [
    "# TESTING ################\n",
    "\"\"\"\n",
    "import numpy as np\n",
    "import matplotlib.pyplot as plt\n",
    "\n",
    "black_sea_coords = np.load('blackSea_polygon_coords.npy')\n",
    "#plt.plot(black_sea_coords[:,0], black_sea_coords[:,1],'o')\n",
    "\n",
    "black_sea = black_sea_obj(black_sea_coords)\n",
    "\n",
    "# Setting istanbul at lower left corner (but let the method decide the concrete point\n",
    "# by setting it as [0,0] (outside of area))\n",
    "black_sea.set_port('Istanbul', np.array([0,0]))\n",
    "\n",
    "xy = black_sea.ports[0][1]\n",
    "\n",
    "fig, ax = plt.subplots()\n",
    "ax.plot(black_sea_coords[:,0], black_sea_coords[:,1])\n",
    "ax.plot(xy[0],xy[1], 'ro')\n",
    "\"\"\""
   ]
  }
 ],
 "metadata": {
  "kernelspec": {
   "display_name": "Python 3",
   "language": "python",
   "name": "python3"
  },
  "language_info": {
   "codemirror_mode": {
    "name": "ipython",
    "version": 3
   },
   "file_extension": ".py",
   "mimetype": "text/x-python",
   "name": "python",
   "nbconvert_exporter": "python",
   "pygments_lexer": "ipython3",
   "version": "3.8.2"
  }
 },
 "nbformat": 4,
 "nbformat_minor": 4
}
